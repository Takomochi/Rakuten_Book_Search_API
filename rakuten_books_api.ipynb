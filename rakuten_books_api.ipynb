{
 "cells": [
  {
   "cell_type": "markdown",
   "metadata": {},
   "source": [
    "# Extract Book information from Rakuten API\n",
    "## Ryotaro Shiba's Books"
   ]
  },
  {
   "cell_type": "code",
   "execution_count": 1,
   "metadata": {},
   "outputs": [],
   "source": [
    "# Import dependancies\n",
    "import requests\n",
    "import pandas as pd\n",
    "from config import rakuten_app_id"
   ]
  },
  {
   "cell_type": "code",
   "execution_count": 2,
   "metadata": {},
   "outputs": [],
   "source": [
    "app_id = rakuten_app_id\n"
   ]
  },
  {
   "cell_type": "code",
   "execution_count": 3,
   "metadata": {},
   "outputs": [],
   "source": [
    "# Function to extract all the information about Ryotaro Shiba's Books\n",
    "def extract_data():\n",
    "    ryotaro_books_df = pd.DataFrame()\n",
    "    for i in range(1,10):\n",
    "        res = requests.get(f\"https://app.rakuten.co.jp/services/api/BooksBook/Search/20170404?format=json&author=%E5%8F%B8%E9%A6%AC&booksGenreId=001004008&page={i}&applicationId={app_id}\")\n",
    "        results = res.json()\n",
    "        \n",
    "        for j in range(len(results['Items'])):\n",
    "            books_info = results['Items'][j]['Item']\n",
    "            _df = pd.DataFrame(books_info, index=[j])\n",
    "            ryotaro_books_df = ryotaro_books_df.append(_df)\n",
    "    return ryotaro_books_df"
   ]
  },
  {
   "cell_type": "code",
   "execution_count": 4,
   "metadata": {},
   "outputs": [],
   "source": [
    "ryotaro_books_df = extract_data()"
   ]
  },
  {
   "cell_type": "code",
   "execution_count": 5,
   "metadata": {},
   "outputs": [
    {
     "data": {
      "text/plain": [
       "Index(['affiliateUrl', 'author', 'authorKana', 'availability', 'booksGenreId',\n",
       "       'chirayomiUrl', 'contents', 'discountPrice', 'discountRate', 'isbn',\n",
       "       'itemCaption', 'itemPrice', 'itemUrl', 'largeImageUrl', 'limitedFlag',\n",
       "       'listPrice', 'mediumImageUrl', 'postageFlag', 'publisherName',\n",
       "       'reviewAverage', 'reviewCount', 'salesDate', 'seriesName',\n",
       "       'seriesNameKana', 'size', 'smallImageUrl', 'subTitle', 'subTitleKana',\n",
       "       'title', 'titleKana'],\n",
       "      dtype='object')"
      ]
     },
     "execution_count": 5,
     "metadata": {},
     "output_type": "execute_result"
    }
   ],
   "source": [
    "# Check columns\n",
    "ryotaro_books_df.columns"
   ]
  },
  {
   "cell_type": "code",
   "execution_count": 6,
   "metadata": {},
   "outputs": [],
   "source": [
    "# Limit the columns and assign to a new variable\n",
    "ryotaro_books_new = ryotaro_books_df[['author', 'authorKana', 'booksGenreId', \n",
    "       'itemCaption', 'itemPrice', 'publisherName',\n",
    "       'reviewAverage', 'reviewCount', 'salesDate', 'seriesName',\n",
    "       'seriesNameKana', 'size', 'subTitle', 'subTitleKana',\n",
    "       'title']]"
   ]
  },
  {
   "cell_type": "code",
   "execution_count": 7,
   "metadata": {},
   "outputs": [],
   "source": [
    "# Export as a csv file\n",
    "ryotaro_books_new.to_csv(\"Resources/ryotaro_books.csv\", index=False, encoding='utf-8')"
   ]
  }
 ],
 "metadata": {
  "interpreter": {
   "hash": "b76f811ba95ff58d7179ae2b2bd9b2c634cfb93c920b2effe2193d5cbfc6479c"
  },
  "kernelspec": {
   "display_name": "Python 3.7.10 64-bit ('PythonData': conda)",
   "language": "python",
   "name": "python3"
  },
  "language_info": {
   "codemirror_mode": {
    "name": "ipython",
    "version": 3
   },
   "file_extension": ".py",
   "mimetype": "text/x-python",
   "name": "python",
   "nbconvert_exporter": "python",
   "pygments_lexer": "ipython3",
   "version": "3.7.10"
  },
  "orig_nbformat": 4
 },
 "nbformat": 4,
 "nbformat_minor": 2
}
